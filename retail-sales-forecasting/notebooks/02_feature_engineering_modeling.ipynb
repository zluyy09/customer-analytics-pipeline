{
 "cells": [
  {
   "cell_type": "markdown",
   "metadata": {},
   "source": [
    "# 02 — Feature Engineering & Modeling\n",
    "Lag/lead engineering, rolling stats, calendar/holiday features, store meta, then train:\n",
    "\n",
    "- SARIMAX per series (optionally parallel)\n",
    "\n",
    "- Prophet with regressors\n",
    "\n",
    "- Global GBM (XGBoost/LightGBM) with time‑aware CV\n"
   ]
  },
  {
   "cell_type": "code",
   "execution_count": 2,
   "metadata": {},
   "outputs": [
    {
     "data": {
      "text/plain": [
       "(81,\n",
       " ['Store',\n",
       "  'Dept',\n",
       "  'IsHoliday',\n",
       "  'Size',\n",
       "  'Temperature',\n",
       "  'Fuel_Price',\n",
       "  'MarkDown1',\n",
       "  'MarkDown2',\n",
       "  'MarkDown3',\n",
       "  'MarkDown4'])"
      ]
     },
     "execution_count": 2,
     "metadata": {},
     "output_type": "execute_result"
    }
   ],
   "source": [
    "\n",
    "import pandas as pd, numpy as np\n",
    "import matplotlib.pyplot as plt\n",
    "from pathlib import Path\n",
    "RAW = Path(\"../data/raw\")\n",
    "\n",
    "train = pd.read_csv(RAW/\"train.csv\")\n",
    "stores = pd.read_csv(RAW/\"stores.csv\")\n",
    "features = pd.read_csv(RAW/\"features.csv\")\n",
    "for df in [train, features]:\n",
    "    df['Date'] = pd.to_datetime(df['Date'])\n",
    "\n",
    "df = (train.merge(stores, on='Store', how='left')\n",
    "           .merge(features, on=['Store','Date'], how='left')\n",
    "      ).sort_values(['Store','Dept','Date'])\n",
    "df = df.drop(columns=['IsHoliday_y'])  # remove duplicate IsHoliday\n",
    "df = df.rename(columns={'IsHoliday_x': 'IsHoliday'})\n",
    "df['IsHoliday'] = df['IsHoliday'].astype(bool)\n",
    "\n",
    "# Calendar features\n",
    "df['Year'] = df['Date'].dt.year\n",
    "df['Week'] = df['Date'].dt.isocalendar().week.astype(int)\n",
    "df['Month'] = df['Date'].dt.month\n",
    "df['Quarter'] = df['Date'].dt.quarter\n",
    "\n",
    "# Lags & rolling stats\n",
    "for k in [1,2,3,4,8,13,26,52]:\n",
    "    df[f'lag_{k}'] = df.groupby(['Store','Dept'])['Weekly_Sales'].shift(k)\n",
    "    df[f'roll_mean_{k}'] = df.groupby(['Store','Dept'])['Weekly_Sales'].transform(lambda s: s.shift(1).rolling(k).mean())\n",
    "    df[f'roll_std_{k}'] = df.groupby(['Store','Dept'])['Weekly_Sales'].transform(lambda s: s.shift(1).rolling(k).std())\n",
    "\n",
    "# Markdown lag/leads\n",
    "md_cols = [c for c in df.columns if c.startswith(\"MarkDown\")]\n",
    "for c in md_cols:\n",
    "    for k in [1,2,3,4]:\n",
    "        df[f'{c}_lag{k}'] = df.groupby(['Store','Dept'])[c].shift(k)\n",
    "        df[f'{c}_lead{k}'] = df.groupby(['Store','Dept'])[c].shift(-k)\n",
    "\n",
    "# Train/valid split by time\n",
    "cutoff = df['Date'].quantile(0.8)\n",
    "train_df = df[df['Date'] <= cutoff].copy()\n",
    "valid_df = df[df['Date'] > cutoff].copy()\n",
    "\n",
    "# Feature list (example)\n",
    "y = 'Weekly_Sales'\n",
    "drop_cols = ['Date','Weekly_Sales']\n",
    "X_cols = [c for c in df.columns if c not in drop_cols]\n",
    "X_cols = [c for c in X_cols if df[c].dtype != 'O']  # numeric only for GBM example\n",
    "len(X_cols), X_cols[:10]\n"
   ]
  },
  {
   "cell_type": "code",
   "execution_count": null,
   "metadata": {},
   "outputs": [
    {
     "name": "stdout",
     "output_type": "stream",
     "text": [
      "[LightGBM] [Info] Auto-choosing row-wise multi-threading, the overhead of testing was 0.077571 seconds.\n",
      "You can set `force_row_wise=true` to remove the overhead.\n",
      "And if memory is not enough, you can set `force_col_wise=true`.\n",
      "[LightGBM] [Info] Total Bins 18574\n",
      "[LightGBM] [Info] Number of data points in the train set: 338738, number of used features: 80\n",
      "[LightGBM] [Info] Start training from score 16029.159427\n",
      "Holdout WAPE: 0.08190397398508038\n"
     ]
    }
   ],
   "source": [
    "# Global model (LightGBM) with time‑aware training\n",
    "from lightgbm import LGBMRegressor\n",
    "from sklearn.metrics import mean_absolute_error\n",
    "from sklearn.base import clone\n",
    "\n",
    "def wape(y_true, y_pred):\n",
    "    return np.abs(y_true - y_pred).sum() / (np.abs(y_true).sum() + 1e-9)\n",
    "\n",
    "gbm = LGBMRegressor(n_estimators=1500, learning_rate=0.02, num_leaves=64, subsample=0.8, colsample_bytree=0.8, random_state=42)\n",
    "gbm.fit(train_df[X_cols], train_df[y])\n",
    "pred = gbm.predict(valid_df[X_cols])\n",
    "print(\"Holdout WAPE:\", wape(valid_df[y].values, pred))\n"
   ]
  },
  {
   "cell_type": "code",
   "execution_count": 12,
   "metadata": {},
   "outputs": [
    {
     "name": "stdout",
     "output_type": "stream",
     "text": [
      "                                     SARIMAX Results                                      \n",
      "==========================================================================================\n",
      "Dep. Variable:                       Weekly_Sales   No. Observations:                  142\n",
      "Model:             SARIMAX(1, 1, 1)x(1, 1, 1, 52)   Log Likelihood                   0.000\n",
      "Date:                            Wed, 24 Sep 2025   AIC                             12.000\n",
      "Time:                                    23:35:41   BIC                             26.932\n",
      "Sample:                                02-08-2010   HQIC                            18.019\n",
      "                                     - 10-22-2012                                         \n",
      "Covariance Type:                              opg                                         \n",
      "==============================================================================\n",
      "                 coef    std err          z      P>|z|      [0.025      0.975]\n",
      "------------------------------------------------------------------------------\n",
      "IsHoliday           0         -0        nan        nan           0           0\n",
      "ar.L1               0         -0        nan        nan           0           0\n",
      "ma.L1               0         -0        nan        nan           0           0\n",
      "ar.S.L52            0         -0        nan        nan           0           0\n",
      "ma.S.L52            0         -0        nan        nan           0           0\n",
      "sigma2         1.0000         -0       -inf      0.000       1.000       1.000\n",
      "===================================================================================\n",
      "Ljung-Box (L1) (Q):                    nan   Jarque-Bera (JB):                  nan\n",
      "Prob(Q):                               nan   Prob(JB):                          nan\n",
      "Heteroskedasticity (H):                nan   Skew:                              nan\n",
      "Prob(H) (two-sided):                   nan   Kurtosis:                          nan\n",
      "===================================================================================\n",
      "\n",
      "Warnings:\n",
      "[1] Covariance matrix calculated using the outer product of gradients (complex-step).\n",
      "[2] Covariance matrix is singular or near-singular, with condition number    inf. Standard errors may be unstable.\n"
     ]
    }
   ],
   "source": [
    "\n",
    "# SARIMAX template for a single series (extend with joblib for parallel)\n",
    "import warnings\n",
    "warnings.filterwarnings(\"ignore\")\n",
    "from statsmodels.tsa.statespace.sarimax import SARIMAX\n",
    "\n",
    "# example = df[(df['Store']==1) & (df['Dept']==1)].copy()\n",
    "# s = example.set_index('Date')['Weekly_Sales'].asfreq('W-MON')\n",
    "# exo_cols = ['IsHoliday']\n",
    "# exo = example.set_index('Date')[exo_cols].asfreq('W-MON')\n",
    "# exo = example.set_index('Date')[exo_cols].asfreq('W-MON').astype(int)\n",
    "# exo = exo.reindex(s.index).fillna(0)\n",
    "\n",
    "# Subset once, set the index once\n",
    "ex = (df.loc[(df['Store'] == 1) & (df['Dept'] == 1)]\n",
    "        .set_index('Date')\n",
    "        .sort_index())\n",
    "\n",
    "# Weekly target (Mondays)\n",
    "s = ex['Weekly_Sales'].asfreq('W-MON')\n",
    "\n",
    "# Exogenous features aligned to s, integers\n",
    "exo = (ex.loc[:, ['IsHoliday']]\n",
    "         .asfreq('W-FRI')\n",
    "         .reindex(s.index)\n",
    "         .fillna(0)\n",
    "         .astype(int))\n",
    "\n",
    "mod = SARIMAX(s, order=(1,1,1), seasonal_order=(1,1,1,52), exog=exo).fit(disp=False)\n",
    "print(mod.summary())\n"
   ]
  },
  {
   "cell_type": "code",
   "execution_count": 13,
   "metadata": {},
   "outputs": [
    {
     "name": "stderr",
     "output_type": "stream",
     "text": [
      "23:36:46 - cmdstanpy - INFO - Chain [1] start processing\n",
      "23:36:46 - cmdstanpy - INFO - Chain [1] done processing\n"
     ]
    },
    {
     "data": {
      "text/html": [
       "<div>\n",
       "<style scoped>\n",
       "    .dataframe tbody tr th:only-of-type {\n",
       "        vertical-align: middle;\n",
       "    }\n",
       "\n",
       "    .dataframe tbody tr th {\n",
       "        vertical-align: top;\n",
       "    }\n",
       "\n",
       "    .dataframe thead th {\n",
       "        text-align: right;\n",
       "    }\n",
       "</style>\n",
       "<table border=\"1\" class=\"dataframe\">\n",
       "  <thead>\n",
       "    <tr style=\"text-align: right;\">\n",
       "      <th></th>\n",
       "      <th>ds</th>\n",
       "      <th>yhat</th>\n",
       "    </tr>\n",
       "  </thead>\n",
       "  <tbody>\n",
       "    <tr>\n",
       "      <th>0</th>\n",
       "      <td>2012-11-02</td>\n",
       "      <td>32815.511242</td>\n",
       "    </tr>\n",
       "    <tr>\n",
       "      <th>1</th>\n",
       "      <td>2012-11-09</td>\n",
       "      <td>27227.340643</td>\n",
       "    </tr>\n",
       "    <tr>\n",
       "      <th>2</th>\n",
       "      <td>2012-11-16</td>\n",
       "      <td>19321.223530</td>\n",
       "    </tr>\n",
       "    <tr>\n",
       "      <th>3</th>\n",
       "      <td>2012-11-23</td>\n",
       "      <td>16403.106685</td>\n",
       "    </tr>\n",
       "    <tr>\n",
       "      <th>4</th>\n",
       "      <td>2012-11-30</td>\n",
       "      <td>22396.628370</td>\n",
       "    </tr>\n",
       "  </tbody>\n",
       "</table>\n",
       "</div>"
      ],
      "text/plain": [
       "          ds          yhat\n",
       "0 2012-11-02  32815.511242\n",
       "1 2012-11-09  27227.340643\n",
       "2 2012-11-16  19321.223530\n",
       "3 2012-11-23  16403.106685\n",
       "4 2012-11-30  22396.628370"
      ]
     },
     "execution_count": 13,
     "metadata": {},
     "output_type": "execute_result"
    }
   ],
   "source": [
    "\n",
    "# Prophet with regressors (per series)\n",
    "from prophet import Prophet\n",
    "\n",
    "ex = example.copy()\n",
    "ex = ex.set_index('Date').asfreq('W-FRI')\n",
    "ex = ex[['Weekly_Sales','IsHoliday']].reset_index().rename(columns={'Date':'ds','Weekly_Sales':'y'})\n",
    "m = Prophet(weekly_seasonality=False, yearly_seasonality=True, changepoint_prior_scale=0.5)\n",
    "m.add_regressor('IsHoliday')\n",
    "m.fit(ex[['ds','y','IsHoliday']])\n",
    "future = m.make_future_dataframe(periods=13, freq='W-FRI', include_history=False)\n",
    "future['IsHoliday'] = 0  # replace with planned calendar\n",
    "fcst = m.predict(future)\n",
    "fcst[['ds','yhat']].head()\n"
   ]
  },
  {
   "cell_type": "code",
   "execution_count": null,
   "id": "11f8d882",
   "metadata": {},
   "outputs": [],
   "source": []
  }
 ],
 "metadata": {
  "kernelspec": {
   "display_name": "Python 3",
   "language": "python",
   "name": "python3"
  },
  "language_info": {
   "codemirror_mode": {
    "name": "ipython",
    "version": 3
   },
   "file_extension": ".py",
   "mimetype": "text/x-python",
   "name": "python",
   "nbconvert_exporter": "python",
   "pygments_lexer": "ipython3",
   "version": "3.12.2"
  }
 },
 "nbformat": 4,
 "nbformat_minor": 5
}

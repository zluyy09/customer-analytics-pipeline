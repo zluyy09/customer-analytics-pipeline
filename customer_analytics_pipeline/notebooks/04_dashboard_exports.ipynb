{
 "cells": [
  {
   "cell_type": "markdown",
   "metadata": {},
   "source": [
    "# 04 — Dashboard Exports"
   ]
  },
  {
   "cell_type": "code",
   "execution_count": null,
   "metadata": {},
   "outputs": [
    {
     "name": "stdout",
     "output_type": "stream",
     "text": [
      "Saved:\n",
      " - /Users/ying/Documents/notebook/Projects/customer_analytics_pipeline/dashboards/tableau/rfm.csv\n",
      " - /Users/ying/Documents/notebook/Projects/customer_analytics_pipeline/dashboards/tableau/segments.csv\n",
      " - /Users/ying/Documents/notebook/Projects/customer_analytics_pipeline/dashboards/tableau/clv.csv\n"
     ]
    }
   ],
   "source": [
    "from pathlib import Path\n",
    "import duckdb, pandas as pd\n",
    "\n",
    "BASE = Path(\"..\").resolve()\n",
    "DB   = BASE / \"data\" / \"processed\" / \"warehouse.duckdb\"\n",
    "SQL  = BASE / \"sql\"\n",
    "\n",
    "OUT = BASE / \"dashboards\" / \"tableau\"\n",
    "OUT.mkdir(parents=True, exist_ok=True)\n",
    "\n",
    "con = duckdb.connect(str(DB), read_only=True)\n",
    "con.execute(\"SET schema='analytics';\")\n",
    "\n",
    "rfm = con.execute(\"SELECT * FROM rfm_view\").fetchdf()\n",
    "seg = con.execute((SQL / \"segmentation.sql\").read_text()).fetchdf()\n",
    "clv = con.execute((SQL / \"clv_simple.sql\").read_text()).fetchdf()\n",
    "\n",
    "rfm_path = OUT / \"rfm.csv\"\n",
    "seg_path = OUT / \"segments.csv\"\n",
    "clv_path = OUT / \"clv.csv\"\n",
    "\n",
    "rfm.to_csv(rfm_path, index=False)\n",
    "seg.to_csv(seg_path, index=False)\n",
    "clv.to_csv(clv_path, index=False)\n",
    "\n",
    "print(\"Saved:\")\n",
    "print(\" -\", rfm_path.resolve())\n",
    "print(\" -\", seg_path.resolve())\n",
    "print(\" -\", clv_path.resolve())\n",
    "\n",
    "con.close()\n",
    "\n"
   ]
  },
  {
   "cell_type": "code",
   "execution_count": null,
   "id": "821cd041",
   "metadata": {},
   "outputs": [],
   "source": []
  }
 ],
 "metadata": {
  "kernelspec": {
   "display_name": "Python 3",
   "language": "python",
   "name": "python3"
  },
  "language_info": {
   "codemirror_mode": {
    "name": "ipython",
    "version": 3
   },
   "file_extension": ".py",
   "mimetype": "text/x-python",
   "name": "python",
   "nbconvert_exporter": "python",
   "pygments_lexer": "ipython3",
   "version": "3.12.2"
  }
 },
 "nbformat": 4,
 "nbformat_minor": 5
}

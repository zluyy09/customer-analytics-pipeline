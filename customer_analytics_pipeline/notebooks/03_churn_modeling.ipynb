{
 "cells": [
  {
   "cell_type": "markdown",
   "metadata": {},
   "source": [
    "# 03 — Churn Modeling (Leakage‑safe)"
   ]
  },
  {
   "cell_type": "code",
   "execution_count": 5,
   "metadata": {},
   "outputs": [
    {
     "name": "stdout",
     "output_type": "stream",
     "text": [
      "ROC AUC: 0.6719427361629196\n",
      "PR AUC : 0.743657961812564\n"
     ]
    }
   ],
   "source": [
    "\n",
    "import pandas as pd, duckdb, numpy as np\n",
    "from sklearn.model_selection import train_test_split\n",
    "from sklearn.metrics import roc_auc_score, average_precision_score, classification_report\n",
    "from xgboost import XGBClassifier\n",
    "\n",
    "con = duckdb.connect(\"../data/processed/warehouse.duckdb\")\n",
    "con.execute(\"SET schema='analytics';\")\n",
    "features = con.execute(open(\"../sql/churn_features.sql\").read()).fetchdf()\n",
    "\n",
    "\n",
    "y = features['churn_label'].astype(int).values\n",
    "X = pd.get_dummies(features.drop(columns=['churn_label','last_order_date']), drop_first=True)\n",
    "X_train, X_test, y_train, y_test = train_test_split(X, y, test_size=0.3, stratify=y, random_state=42)\n",
    "clf = XGBClassifier(n_estimators=400, max_depth=4, learning_rate=0.05, subsample=0.8, colsample_bytree=0.8, eval_metric='logloss', random_state=42)\n",
    "clf.fit(X_train, y_train); proba = clf.predict_proba(X_test)[:,1]\n",
    "print(\"ROC AUC:\", roc_auc_score(y_test, proba)); print(\"PR AUC :\", average_precision_score(y_test, proba))\n"
   ]
  },
  {
   "cell_type": "code",
   "execution_count": 6,
   "id": "c14b5d80",
   "metadata": {},
   "outputs": [],
   "source": [
    "con.close()"
   ]
  },
  {
   "cell_type": "code",
   "execution_count": null,
   "id": "ba14b909",
   "metadata": {},
   "outputs": [],
   "source": []
  }
 ],
 "metadata": {
  "kernelspec": {
   "display_name": "Python 3",
   "language": "python",
   "name": "python3"
  },
  "language_info": {
   "codemirror_mode": {
    "name": "ipython",
    "version": 3
   },
   "file_extension": ".py",
   "mimetype": "text/x-python",
   "name": "python",
   "nbconvert_exporter": "python",
   "pygments_lexer": "ipython3",
   "version": "3.12.2"
  }
 },
 "nbformat": 4,
 "nbformat_minor": 5
}

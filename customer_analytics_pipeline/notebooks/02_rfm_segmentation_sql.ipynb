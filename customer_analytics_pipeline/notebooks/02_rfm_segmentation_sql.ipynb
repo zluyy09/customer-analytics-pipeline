{
 "cells": [
  {
   "cell_type": "markdown",
   "metadata": {},
   "source": [
    "# 02 — RFM Segmentation (SQL‑first)"
   ]
  },
  {
   "cell_type": "code",
   "execution_count": 4,
   "id": "fbdf60d9",
   "metadata": {},
   "outputs": [
    {
     "data": {
      "text/plain": [
       "segment\n",
       "Regulars             1067\n",
       "Loyal                 372\n",
       "Champions             341\n",
       "At Risk (High F)      202\n",
       "Hibernating            15\n",
       "Promising (Low M)       3\n",
       "Name: count, dtype: int64"
      ]
     },
     "execution_count": 4,
     "metadata": {},
     "output_type": "execute_result"
    }
   ],
   "source": [
    "import os, duckdb, pandas as pd\n",
    "from pathlib import Path\n",
    "\n",
    "# 项目根目录（假设当前 notebook 在 notebooks/ 下运行）\n",
    "BASE = Path(\"..\").resolve()\n",
    "\n",
    "# ✅ 确保 processed 目录存在\n",
    "processed_dir = BASE / \"data\" / \"processed\"\n",
    "processed_dir.mkdir(parents=True, exist_ok=True)\n",
    "\n",
    "# ✅ 用绝对路径连接 DuckDB 文件数据库\n",
    "db_path = processed_dir / \"warehouse.duckdb\"\n",
    "con = duckdb.connect(str(db_path))\n",
    "\n",
    "# 选定 schema\n",
    "con.execute(\"CREATE SCHEMA IF NOT EXISTS analytics; SET schema='analytics';\")\n",
    "\n",
    "# ✅ 用绝对路径读 CSV，避免相对路径跑偏\n",
    "raw_dir = BASE / \"data\" / \"raw\"\n",
    "tables = [\"customers\",\"orders\",\"order_items\",\"products\",\"events\",\"campaigns\",\"campaign_members\"]\n",
    "for name in tables:\n",
    "    csv_path = (raw_dir / f\"{name}.csv\").as_posix()\n",
    "    con.execute(f\"CREATE OR REPLACE TABLE analytics.{name} AS SELECT * FROM read_csv_auto('{csv_path}', SAMPLE_SIZE=-1);\")\n",
    "\n",
    "# 读入 SQL 并生成视图/结果\n",
    "rfm_sql = (BASE / \"sql\" / \"rfm.sql\").read_text()\n",
    "con.execute(\"CREATE OR REPLACE VIEW rfm_view AS \" + rfm_sql)\n",
    "\n",
    "seg_sql = (BASE / \"sql\" / \"segmentation.sql\").read_text()\n",
    "seg = con.execute(seg_sql).fetchdf()\n",
    "\n",
    "# 看一下分群规模\n",
    "seg.segment.value_counts()\n"
   ]
  },
  {
   "cell_type": "code",
   "execution_count": 5,
   "id": "2df72427",
   "metadata": {},
   "outputs": [],
   "source": [
    "con.close()"
   ]
  },
  {
   "cell_type": "code",
   "execution_count": null,
   "id": "3fbbf588",
   "metadata": {},
   "outputs": [],
   "source": []
  }
 ],
 "metadata": {
  "kernelspec": {
   "display_name": "Python 3",
   "language": "python",
   "name": "python3"
  },
  "language_info": {
   "codemirror_mode": {
    "name": "ipython",
    "version": 3
   },
   "file_extension": ".py",
   "mimetype": "text/x-python",
   "name": "python",
   "nbconvert_exporter": "python",
   "pygments_lexer": "ipython3",
   "version": "3.12.2"
  }
 },
 "nbformat": 4,
 "nbformat_minor": 5
}
